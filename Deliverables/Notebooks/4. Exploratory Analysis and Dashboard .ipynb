{
 "cells": [
  {
   "cell_type": "code",
   "execution_count": null,
   "id": "a4d4a64e-75ed-49b4-9ec9-325e03a69fd3",
   "metadata": {},
   "outputs": [],
   "source": [
    "Importing all dependencies"
   ]
  },
  {
   "cell_type": "code",
   "execution_count": null,
   "id": "e91eafa7-0c7f-49d0-bc41-42a2f8704d30",
   "metadata": {},
   "outputs": [],
   "source": [
    "from dash import Dash, html, dcc, Input, Output\n",
    "import plotly.express as px\n",
    "import dash_bootstrap_components as dbc\n",
    "import pandas as pd\n",
    "import numpy as np\n",
    "import matplotlib\n",
    "matplotlib.use('agg')\n",
    "import matplotlib.pyplot as plt\n",
    "import seaborn as sns\n",
    "from wordcloud import WordCloud\n",
    "import base64\n",
    "from io import BytesIO"
   ]
  },
  {
   "cell_type": "code",
   "execution_count": null,
   "id": "d3739da5-25b7-420a-a8de-be71a6699cda",
   "metadata": {},
   "outputs": [],
   "source": [
    "!pip install dash\n",
    "!pip install dash-bootstrap-components\n",
    "!pip install wordcloud"
   ]
  },
  {
   "cell_type": "code",
   "execution_count": null,
   "id": "05b631ef-cfc5-43d1-9e1e-f1da81657a13",
   "metadata": {},
   "outputs": [],
   "source": [
    "Loadind Data"
   ]
  },
  {
   "cell_type": "code",
   "execution_count": null,
   "id": "847c824b-0c21-4003-b517-1cb24f9e067e",
   "metadata": {},
   "outputs": [],
   "source": [
    "# Specify the full path to the CSV file\n",
    "file_path = r'D:\\Data Science\\AAIT\\Cap Stone Project\\Data\\Merged Data\\Fillna\\Merged_reviews_cleaned_labeled_topic II.csv'\n",
    "\n",
    "# Load the reviews data from the specified pathQ\n",
    "df_labeled = pd.read_csv(file_path)"
   ]
  },
  {
   "cell_type": "code",
   "execution_count": null,
   "id": "6ca30060-95f0-4c2d-8ea4-6be8f232ecf5",
   "metadata": {},
   "outputs": [],
   "source": [
    "Exploratory Analysis and Dashboard (with drop down)"
   ]
  },
  {
   "cell_type": "code",
   "execution_count": 4,
   "id": "43d6f1c6-fc11-484d-9273-25a1e5b89d15",
   "metadata": {},
   "outputs": [
    {
     "data": {
      "text/html": [
       "\n",
       "        <iframe\n",
       "            width=\"100%\"\n",
       "            height=\"650\"\n",
       "            src=\"http://127.0.0.1:8003/\"\n",
       "            frameborder=\"0\"\n",
       "            allowfullscreen\n",
       "            \n",
       "        ></iframe>\n",
       "        "
      ],
      "text/plain": [
       "<IPython.lib.display.IFrame at 0x14ed6a71b10>"
      ]
     },
     "metadata": {},
     "output_type": "display_data"
    }
   ],
   "source": [
    "# Function to create word-frequency cloud plots\n",
    "def create_wordcloud(data):\n",
    "    wordcloud = WordCloud(width=800, height=400, background_color='white').generate(\" \".join(data))\n",
    "    fig, ax = plt.subplots(figsize=(10, 6))  \n",
    "    ax.imshow(wordcloud, interpolation='bilinear')\n",
    "    ax.axis('off')\n",
    "    plt.close(fig)  \n",
    "    return fig\n",
    "\n",
    "# Function to generate base64 image from matplotlib figure\n",
    "def fig_to_base64(fig):\n",
    "    buf = BytesIO()\n",
    "    fig.savefig(buf, format=\"png\")\n",
    "    buf.seek(0)\n",
    "    img_base64 = base64.b64encode(buf.read()).decode(\"ascii\")\n",
    "    plt.close(fig) \n",
    "    return f\"data:image/png;base64,{img_base64}\"\n",
    "\n",
    "# Set up the Dash app\n",
    "app = Dash(__name__, external_stylesheets=[dbc.themes.BOOTSTRAP])\n",
    "app.layout = dbc.Container([\n",
    "    html.H1(\"Exploratory Analysis and Dashboard\", className='mb-2', style={'textAlign': 'center'}),\n",
    "\n",
    "    # Dropdown for selecting hotel site\n",
    "    dbc.Row([\n",
    "        dbc.Col([\n",
    "            dcc.Dropdown(\n",
    "                id='hotel_site',\n",
    "                value='All Hotels',\n",
    "                clearable=False,\n",
    "                options=[{'label': site, 'value': site} for site in ['All Hotels'] + df_labeled['Hotel_site'].unique().tolist()]\n",
    "            )\n",
    "        ], width=12),\n",
    "    ], justify=\"center\", className=\"mb-4\"),  \n",
    "\n",
    "    # Plots and Figures\n",
    "    dbc.Row([\n",
    "        dbc.Col([html.Img(id='wordcloud-plot', style={'width': '100%'})], width=12),\n",
    "    ], justify=\"center\", className=\"mb-4\"),\n",
    "\n",
    "    dbc.Row([\n",
    "        dbc.Col([html.Img(id='topics-plot', style={'width': '100%'})], width=12),\n",
    "    ], justify=\"center\", className=\"mb-4\"),\n",
    "\n",
    "    dbc.Row([\n",
    "        dbc.Col([html.Img(id='sentiment-analysis-plot', style={'width': '100%'})], width=12),\n",
    "    ], justify=\"center\", className=\"mb-4\"),\n",
    "\n",
    "    dbc.Row([\n",
    "        dbc.Col([html.Img(id='ratings-plot', style={'width': '100%'})], width=12),\n",
    "    ], justify=\"center\", className=\"mb-4\"),\n",
    "\n",
    "    # Summary statistics\n",
    "    dbc.Row([\n",
    "        dbc.Col([html.Div(id='summary-stats')], width=12),\n",
    "    ], justify=\"center\", className=\"mb-4\"),\n",
    "])\n",
    "\n",
    "@app.callback(\n",
    "    Output('wordcloud-plot', 'src'),\n",
    "    Output('topics-plot', 'src'),\n",
    "    Output('sentiment-analysis-plot', 'src'),\n",
    "    Output('ratings-plot', 'src'),\n",
    "    Output('summary-stats', 'children'),\n",
    "    Input('hotel_site', 'value')\n",
    ")\n",
    "def update_dashboard(hotel_site):\n",
    "    # Filter data based on selected hotel site\n",
    "    if hotel_site == 'All Hotels':\n",
    "        filtered_df = df_labeled.copy()\n",
    "    else:\n",
    "        filtered_df = df_labeled[df_labeled['Hotel_site'] == hotel_site].copy()  \n",
    "\n",
    "    # Drop rows with missing Review_comment values\n",
    "    filtered_df = filtered_df.dropna(subset=['Review_comment'])\n",
    "\n",
    "    # Ensure Review_comment column contains strings\n",
    "    filtered_df.loc[:, 'Review_comment'] = filtered_df['Review_comment'].astype(str)  \n",
    "\n",
    "    # Word Frequency Cloud Plot\n",
    "    wordcloud_fig = create_wordcloud(filtered_df['Review_comment'])\n",
    "    wordcloud_fig_base64 = fig_to_base64(wordcloud_fig)\n",
    "\n",
    "    # Topics of Improvement Areas\n",
    "    negative_reviews = filtered_df[filtered_df['Sentiment'] == 'Negative']\n",
    "    negative_topics = negative_reviews['Topic_Label'].value_counts()\n",
    "    if not negative_topics.empty:\n",
    "        fig, ax = plt.subplots(figsize=(10, 6))  \n",
    "        sns.barplot(x=negative_topics.index, y=negative_topics.values, ax=ax)\n",
    "        ax.set_xlabel('Topic')\n",
    "        ax.set_ylabel('Number of Negative Reviews')\n",
    "        ax.set_title('Topics of Improvement Areas')\n",
    "        topics_fig_base64 = fig_to_base64(fig)\n",
    "    else:\n",
    "        topics_fig_base64 = None\n",
    "\n",
    "    # Sentiment Analysis Plot\n",
    "    sentiment_counts = filtered_df['Sentiment'].value_counts()\n",
    "    fig, ax = plt.subplots(figsize=(10, 6))  \n",
    "    sns.barplot(x=sentiment_counts.index, y=sentiment_counts.values, ax=ax)\n",
    "    ax.set_xlabel('Sentiment')\n",
    "    ax.set_ylabel('Number of Reviews')\n",
    "    ax.set_title('Sentiment Analysis')\n",
    "    sentiment_fig_base64 = fig_to_base64(fig)\n",
    "\n",
    "    # Ratings Plot\n",
    "    rating_counts = filtered_df['Rating'].value_counts().sort_index()\n",
    "    fig, ax = plt.subplots(figsize=(10, 6))  \n",
    "    sns.barplot(x=rating_counts.index, y=rating_counts.values, ax=ax)\n",
    "    ax.set_xlabel('Rating')\n",
    "    ax.set_ylabel('Number of Reviews')\n",
    "    ax.set_title('Ratings')\n",
    "    ratings_fig_base64 = fig_to_base64(fig)\n",
    "\n",
    "    # Summary Statistics\n",
    "    summary_stats = html.Div([\n",
    "        html.H4(\"Summary Statistics\"),\n",
    "        html.P(f\"Total Reviews: {len(filtered_df)}\"),\n",
    "        html.P(f\"Average Rating: {filtered_df['Rating'].mean():.2f}\"),\n",
    "        html.P(f\"Number of Positive Reviews: {sentiment_counts.get('Positive', 0)}\"),\n",
    "        html.P(f\"Number of Negative Reviews: {sentiment_counts.get('Negative', 0)}\"),\n",
    "        html.P(f\"Number of Neutral Reviews: {sentiment_counts.get('Neutral', 0)}\")\n",
    "    ])\n",
    "\n",
    "    return wordcloud_fig_base64, topics_fig_base64, sentiment_fig_base64, ratings_fig_base64, summary_stats\n",
    "\n",
    "if __name__ == '__main__':\n",
    "    app.run_server(debug=False, port=8003)\n"
   ]
  },
  {
   "cell_type": "code",
   "execution_count": null,
   "id": "fc133f52-4d14-46d3-a92e-f96b33efdfcb",
   "metadata": {},
   "outputs": [],
   "source": []
  }
 ],
 "metadata": {
  "kernelspec": {
   "display_name": "Python 3 (ipykernel)",
   "language": "python",
   "name": "python3"
  },
  "language_info": {
   "codemirror_mode": {
    "name": "ipython",
    "version": 3
   },
   "file_extension": ".py",
   "mimetype": "text/x-python",
   "name": "python",
   "nbconvert_exporter": "python",
   "pygments_lexer": "ipython3",
   "version": "3.11.7"
  }
 },
 "nbformat": 4,
 "nbformat_minor": 5
}
