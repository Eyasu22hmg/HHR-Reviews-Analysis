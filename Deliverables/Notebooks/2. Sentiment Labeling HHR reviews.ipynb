{
 "cells": [
  {
   "cell_type": "code",
   "execution_count": null,
   "id": "d0081d0b-6d8e-4673-a4c9-39319bfbab7b",
   "metadata": {},
   "outputs": [],
   "source": [
    "Importing all dependencies"
   ]
  },
  {
   "cell_type": "code",
   "execution_count": 12,
   "id": "1793d0d6-8c21-4873-bc0c-1fee9f31f2ef",
   "metadata": {},
   "outputs": [],
   "source": [
    "import pandas as pd\n",
    "from nltk.sentiment.vader import SentimentIntensityAnalyzer\n",
    "import nltk"
   ]
  },
  {
   "cell_type": "code",
   "execution_count": null,
   "id": "e37fcd14-97fe-4fc0-ad97-e303876e35fa",
   "metadata": {},
   "outputs": [],
   "source": [
    "Loading Data"
   ]
  },
  {
   "cell_type": "code",
   "execution_count": 13,
   "id": "d648f3b2-5901-49ab-8d12-5c5072220de1",
   "metadata": {},
   "outputs": [],
   "source": [
    "# Specify the full path to the CSV file\n",
    "file_path = r'D:\\Data Science\\AAIT\\Cap Stone Project\\Data\\Merged Data\\Fillna\\Merged_reviews_cleaned_labeledII.csv'\n",
    "\n",
    "# Load the reviews data from the specified path\n",
    "df = pd.read_csv(file_path)\n"
   ]
  },
  {
   "cell_type": "code",
   "execution_count": null,
   "id": "e246ffed-c469-41e6-8955-e09b8840e353",
   "metadata": {},
   "outputs": [],
   "source": [
    "VADER Sentiment Analysis with Hybrid Sentiment Categorization (combine it with the rating to determine the final sentiment.)"
   ]
  },
  {
   "cell_type": "code",
   "execution_count": 14,
   "id": "e4bb6c28-af75-456d-aefa-c1010668c230",
   "metadata": {},
   "outputs": [
    {
     "name": "stderr",
     "output_type": "stream",
     "text": [
      "[nltk_data] Downloading package vader_lexicon to\n",
      "[nltk_data]     C:\\Users\\Jo\\AppData\\Roaming\\nltk_data...\n",
      "[nltk_data]   Package vader_lexicon is already up-to-date!\n"
     ]
    },
    {
     "name": "stdout",
     "output_type": "stream",
     "text": [
      "Sentiment\n",
      "Positive    535\n",
      "Negative     44\n",
      "Neutral      39\n",
      "Name: count, dtype: int64\n"
     ]
    }
   ],
   "source": [
    "# Download VADER lexicon\n",
    "nltk.download('vader_lexicon')\n",
    "\n",
    "# Initialize VADER sentiment analyzer\n",
    "sia = SentimentIntensityAnalyzer()\n",
    "\n",
    "# Apply sentiment analysis and get the compound score\n",
    "df['Sentiment_score'] = df['Review_comment'].apply(lambda x: sia.polarity_scores(x)['compound'])\n",
    "\n",
    "# Function to categorize sentiment using both score and rating with adjusted thresholds\n",
    "def categorize_with_rating(score, rating):\n",
    "    if rating >= 4:\n",
    "        return 'Positive'\n",
    "    elif rating <= 2:\n",
    "        return 'Negative'\n",
    "    else:\n",
    "        if score > 0.7:  \n",
    "            return 'Positive'\n",
    "        elif score < -0.2:  \n",
    "            return 'Negative'\n",
    "        else:\n",
    "            return 'Neutral'\n",
    "\n",
    "# Apply the hybrid approach\n",
    "df['Sentiment'] = df.apply(lambda row: categorize_with_rating(row['Sentiment_score'], row['Rating']), axis=1)\n",
    "\n",
    "# Verify the new class distribution\n",
    "print(df['Sentiment'].value_counts())\n"
   ]
  },
  {
   "cell_type": "code",
   "execution_count": null,
   "id": "92c50ca6-12e0-4112-8264-4aae5de88426",
   "metadata": {},
   "outputs": [],
   "source": [
    "Save the labeled dataset to a CSV file"
   ]
  },
  {
   "cell_type": "code",
   "execution_count": 16,
   "id": "252e341d-70ec-4073-a42d-26343d9a8777",
   "metadata": {},
   "outputs": [],
   "source": [
    "df.to_csv('Merged_reviews_cleaned_labeledII.csv', index=False)"
   ]
  },
  {
   "cell_type": "code",
   "execution_count": null,
   "id": "4c508144-979c-42b1-81f7-5dbfe6b4525a",
   "metadata": {},
   "outputs": [],
   "source": []
  }
 ],
 "metadata": {
  "kernelspec": {
   "display_name": "Python 3 (ipykernel)",
   "language": "python",
   "name": "python3"
  },
  "language_info": {
   "codemirror_mode": {
    "name": "ipython",
    "version": 3
   },
   "file_extension": ".py",
   "mimetype": "text/x-python",
   "name": "python",
   "nbconvert_exporter": "python",
   "pygments_lexer": "ipython3",
   "version": "3.11.7"
  }
 },
 "nbformat": 4,
 "nbformat_minor": 5
}
